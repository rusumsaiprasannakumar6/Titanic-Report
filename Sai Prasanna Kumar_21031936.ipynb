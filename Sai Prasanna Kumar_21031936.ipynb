{
 "cells": [
  {
   "cell_type": "markdown",
   "id": "fe51a354",
   "metadata": {},
   "source": [
    "# Python Libraries"
   ]
  },
  {
   "cell_type": "code",
   "execution_count": 1,
   "id": "6889ddc2",
   "metadata": {},
   "outputs": [],
   "source": [
    "# Importing Libraries\n",
    "import pandas as pd\n",
    "import matplotlib.pyplot as plt\n",
    "import seaborn as sns"
   ]
  },
  {
   "cell_type": "markdown",
   "id": "517160a0",
   "metadata": {},
   "source": [
    "# Import Data into Notebook"
   ]
  },
  {
   "cell_type": "code",
   "execution_count": 2,
   "id": "da6a24fe",
   "metadata": {},
   "outputs": [
    {
     "data": {
      "text/html": [
       "<div>\n",
       "<style scoped>\n",
       "    .dataframe tbody tr th:only-of-type {\n",
       "        vertical-align: middle;\n",
       "    }\n",
       "\n",
       "    .dataframe tbody tr th {\n",
       "        vertical-align: top;\n",
       "    }\n",
       "\n",
       "    .dataframe thead th {\n",
       "        text-align: right;\n",
       "    }\n",
       "</style>\n",
       "<table border=\"1\" class=\"dataframe\">\n",
       "  <thead>\n",
       "    <tr style=\"text-align: right;\">\n",
       "      <th></th>\n",
       "      <th>CountryName</th>\n",
       "      <th>CountryCode</th>\n",
       "      <th>IndicatorName</th>\n",
       "      <th>IndicatorCode</th>\n",
       "      <th>Year</th>\n",
       "      <th>Value</th>\n",
       "    </tr>\n",
       "  </thead>\n",
       "  <tbody>\n",
       "    <tr>\n",
       "      <th>0</th>\n",
       "      <td>Arab World</td>\n",
       "      <td>ARB</td>\n",
       "      <td>Adolescent fertility rate (births per 1,000 wo...</td>\n",
       "      <td>SP.ADO.TFRT</td>\n",
       "      <td>1960</td>\n",
       "      <td>134.772341</td>\n",
       "    </tr>\n",
       "    <tr>\n",
       "      <th>1</th>\n",
       "      <td>Arab World</td>\n",
       "      <td>ARB</td>\n",
       "      <td>Age dependency ratio (% of working-age populat...</td>\n",
       "      <td>SP.POP.DPND</td>\n",
       "      <td>1960</td>\n",
       "      <td>88.061110</td>\n",
       "    </tr>\n",
       "    <tr>\n",
       "      <th>2</th>\n",
       "      <td>Arab World</td>\n",
       "      <td>ARB</td>\n",
       "      <td>Age dependency ratio, old (% of working-age po...</td>\n",
       "      <td>SP.POP.DPND.OL</td>\n",
       "      <td>1960</td>\n",
       "      <td>6.591951</td>\n",
       "    </tr>\n",
       "    <tr>\n",
       "      <th>3</th>\n",
       "      <td>Arab World</td>\n",
       "      <td>ARB</td>\n",
       "      <td>Age dependency ratio, young (% of working-age ...</td>\n",
       "      <td>SP.POP.DPND.YG</td>\n",
       "      <td>1960</td>\n",
       "      <td>81.324186</td>\n",
       "    </tr>\n",
       "    <tr>\n",
       "      <th>4</th>\n",
       "      <td>Arab World</td>\n",
       "      <td>ARB</td>\n",
       "      <td>Aquaculture production (metric tons)</td>\n",
       "      <td>ER.FSH.AQUA.MT</td>\n",
       "      <td>1960</td>\n",
       "      <td>4600.000000</td>\n",
       "    </tr>\n",
       "  </tbody>\n",
       "</table>\n",
       "</div>"
      ],
      "text/plain": [
       "  CountryName CountryCode                                      IndicatorName  \\\n",
       "0  Arab World         ARB  Adolescent fertility rate (births per 1,000 wo...   \n",
       "1  Arab World         ARB  Age dependency ratio (% of working-age populat...   \n",
       "2  Arab World         ARB  Age dependency ratio, old (% of working-age po...   \n",
       "3  Arab World         ARB  Age dependency ratio, young (% of working-age ...   \n",
       "4  Arab World         ARB               Aquaculture production (metric tons)   \n",
       "\n",
       "    IndicatorCode  Year        Value  \n",
       "0     SP.ADO.TFRT  1960   134.772341  \n",
       "1     SP.POP.DPND  1960    88.061110  \n",
       "2  SP.POP.DPND.OL  1960     6.591951  \n",
       "3  SP.POP.DPND.YG  1960    81.324186  \n",
       "4  ER.FSH.AQUA.MT  1960  4600.000000  "
      ]
     },
     "execution_count": 2,
     "metadata": {},
     "output_type": "execute_result"
    }
   ],
   "source": [
    "#Importing World Bank Data and Displaying Header \n",
    "world_bank_data = pd.read_csv(\"world_bank_data.csv\")\n",
    "world_bank_data.head()"
   ]
  },
  {
   "cell_type": "markdown",
   "id": "24510fa5",
   "metadata": {},
   "source": [
    "# Filter the Data\n",
    "Indicators used in the analysis:\n",
    "* CO2 emissions from electricity and heat production, total (% of total fuel combustion)\n",
    "* Electric power transmission and distribution losses (% of output)\n",
    "* Electricity production from renewable sources, excluding hydroelectric (kWh)\n",
    "* Electric power consumption (kWh per capita)\n",
    "* Electricity production from coal sources (% of total)\n",
    "* Electricity production from hydroelectric sources (% of total)\n",
    "* Electricity production from natural gas sources (% of total)\n",
    "* Electricity production from nuclear sources (% of total)\n",
    "* Electricity production from oil sources (% of total)\n",
    "* Electricity production from oil, gas and coal sources (% of total)\n",
    "* Electricity production from renewable sources, excluding hydroelectric (% of total)\n",
    "* Renewable electricity output (% of total electricity output)"
   ]
  },
  {
   "cell_type": "code",
   "execution_count": 3,
   "id": "e2a5e760",
   "metadata": {},
   "outputs": [],
   "source": [
    "# Indicators being Used for Analysis\n",
    "indicators = [\"CO2 emissions from electricity and heat production, total (% of total fuel combustion)\",\n",
    "\"Electric power transmission and distribution losses (% of output)\",\n",
    "\"Electricity production from renewable sources, excluding hydroelectric (kWh)\",\n",
    "\"Electric power consumption (kWh per capita)\",\n",
    "\"Electricity production from coal sources (% of total)\",\n",
    "\"Electricity production from hydroelectric sources (% of total)\",\n",
    "\"Electricity production from natural gas sources (% of total)\",\n",
    "\"Electricity production from nuclear sources (% of total)\",\n",
    "\"Electricity production from oil sources (% of total)\",\n",
    "\"Electricity production from oil, gas and coal sources (% of total)\",\n",
    "\"Electricity production from renewable sources, excluding hydroelectric (% of total)\",\n",
    "\"Renewable electricity output (% of total electricity output)\"]"
   ]
  },
  {
   "cell_type": "code",
   "execution_count": 4,
   "id": "740f6d88",
   "metadata": {},
   "outputs": [
    {
     "data": {
      "text/html": [
       "<div>\n",
       "<style scoped>\n",
       "    .dataframe tbody tr th:only-of-type {\n",
       "        vertical-align: middle;\n",
       "    }\n",
       "\n",
       "    .dataframe tbody tr th {\n",
       "        vertical-align: top;\n",
       "    }\n",
       "\n",
       "    .dataframe thead th {\n",
       "        text-align: right;\n",
       "    }\n",
       "</style>\n",
       "<table border=\"1\" class=\"dataframe\">\n",
       "  <thead>\n",
       "    <tr style=\"text-align: right;\">\n",
       "      <th></th>\n",
       "      <th>CountryName</th>\n",
       "      <th>CountryCode</th>\n",
       "      <th>IndicatorName</th>\n",
       "      <th>IndicatorCode</th>\n",
       "      <th>Year</th>\n",
       "      <th>Value</th>\n",
       "    </tr>\n",
       "  </thead>\n",
       "  <tbody>\n",
       "    <tr>\n",
       "      <th>282</th>\n",
       "      <td>Central Europe and the Baltics</td>\n",
       "      <td>CEB</td>\n",
       "      <td>CO2 emissions from electricity and heat produc...</td>\n",
       "      <td>EN.CO2.ETOT.ZS</td>\n",
       "      <td>1960</td>\n",
       "      <td>4.227182e+01</td>\n",
       "    </tr>\n",
       "    <tr>\n",
       "      <th>295</th>\n",
       "      <td>Central Europe and the Baltics</td>\n",
       "      <td>CEB</td>\n",
       "      <td>Electric power transmission and distribution l...</td>\n",
       "      <td>EG.ELC.LOSS.ZS</td>\n",
       "      <td>1960</td>\n",
       "      <td>9.562188e+00</td>\n",
       "    </tr>\n",
       "    <tr>\n",
       "      <th>296</th>\n",
       "      <td>Central Europe and the Baltics</td>\n",
       "      <td>CEB</td>\n",
       "      <td>Electricity production from renewable sources,...</td>\n",
       "      <td>EG.ELC.RNWX.KH</td>\n",
       "      <td>1960</td>\n",
       "      <td>1.000000e+07</td>\n",
       "    </tr>\n",
       "    <tr>\n",
       "      <th>413</th>\n",
       "      <td>Early-demographic dividend</td>\n",
       "      <td>EAR</td>\n",
       "      <td>CO2 emissions from electricity and heat produc...</td>\n",
       "      <td>EN.CO2.ETOT.ZS</td>\n",
       "      <td>1960</td>\n",
       "      <td>1.973763e+01</td>\n",
       "    </tr>\n",
       "    <tr>\n",
       "      <th>427</th>\n",
       "      <td>Early-demographic dividend</td>\n",
       "      <td>EAR</td>\n",
       "      <td>Electric power transmission and distribution l...</td>\n",
       "      <td>EG.ELC.LOSS.ZS</td>\n",
       "      <td>1960</td>\n",
       "      <td>9.911190e+00</td>\n",
       "    </tr>\n",
       "  </tbody>\n",
       "</table>\n",
       "</div>"
      ],
      "text/plain": [
       "                        CountryName CountryCode  \\\n",
       "282  Central Europe and the Baltics         CEB   \n",
       "295  Central Europe and the Baltics         CEB   \n",
       "296  Central Europe and the Baltics         CEB   \n",
       "413      Early-demographic dividend         EAR   \n",
       "427      Early-demographic dividend         EAR   \n",
       "\n",
       "                                         IndicatorName   IndicatorCode  Year  \\\n",
       "282  CO2 emissions from electricity and heat produc...  EN.CO2.ETOT.ZS  1960   \n",
       "295  Electric power transmission and distribution l...  EG.ELC.LOSS.ZS  1960   \n",
       "296  Electricity production from renewable sources,...  EG.ELC.RNWX.KH  1960   \n",
       "413  CO2 emissions from electricity and heat produc...  EN.CO2.ETOT.ZS  1960   \n",
       "427  Electric power transmission and distribution l...  EG.ELC.LOSS.ZS  1960   \n",
       "\n",
       "            Value  \n",
       "282  4.227182e+01  \n",
       "295  9.562188e+00  \n",
       "296  1.000000e+07  \n",
       "413  1.973763e+01  \n",
       "427  9.911190e+00  "
      ]
     },
     "execution_count": 4,
     "metadata": {},
     "output_type": "execute_result"
    }
   ],
   "source": [
    "# Data Preprocessing to pickup Indicators Data\n",
    "electricity_data = world_bank_data[world_bank_data[\"IndicatorName\"].isin(indicators)]\n",
    "electricity_data.head()"
   ]
  },
  {
   "cell_type": "markdown",
   "id": "8564aa66",
   "metadata": {},
   "source": [
    "# Analysis"
   ]
  },
  {
   "cell_type": "code",
   "execution_count": 5,
   "id": "432249cd",
   "metadata": {},
   "outputs": [],
   "source": [
    "# Creation of Production data based on Indicators\n",
    "production_data = electricity_data[electricity_data[\"IndicatorName\"].isin([\"Electricity production from coal sources (% of total)\",\n",
    "\"Electricity production from hydroelectric sources (% of total)\",\n",
    "\"Electricity production from natural gas sources (% of total)\",\n",
    "\"Electricity production from nuclear sources (% of total)\",\n",
    "\"Electricity production from oil sources (% of total)\",\n",
    "\"Electricity production from oil, gas and coal sources (% of total)\",\n",
    "\"Electricity production from renewable sources, excluding hydroelectric (% of total)\"])]"
   ]
  },
  {
   "cell_type": "code",
   "execution_count": 6,
   "id": "d04cd9cb",
   "metadata": {},
   "outputs": [
    {
     "data": {
      "text/html": [
       "<div>\n",
       "<style scoped>\n",
       "    .dataframe tbody tr th:only-of-type {\n",
       "        vertical-align: middle;\n",
       "    }\n",
       "\n",
       "    .dataframe tbody tr th {\n",
       "        vertical-align: top;\n",
       "    }\n",
       "\n",
       "    .dataframe thead th {\n",
       "        text-align: right;\n",
       "    }\n",
       "</style>\n",
       "<table border=\"1\" class=\"dataframe\">\n",
       "  <thead>\n",
       "    <tr style=\"text-align: right;\">\n",
       "      <th></th>\n",
       "      <th>CountryName</th>\n",
       "      <th>CountryCode</th>\n",
       "      <th>IndicatorName</th>\n",
       "      <th>IndicatorCode</th>\n",
       "      <th>Year</th>\n",
       "      <th>Value</th>\n",
       "    </tr>\n",
       "  </thead>\n",
       "  <tbody>\n",
       "    <tr>\n",
       "      <th>1119</th>\n",
       "      <td>Euro area</td>\n",
       "      <td>EMU</td>\n",
       "      <td>Electricity production from coal sources (% of...</td>\n",
       "      <td>EG.ELC.COAL.ZS</td>\n",
       "      <td>1960</td>\n",
       "      <td>48.316708</td>\n",
       "    </tr>\n",
       "    <tr>\n",
       "      <th>1120</th>\n",
       "      <td>Euro area</td>\n",
       "      <td>EMU</td>\n",
       "      <td>Electricity production from hydroelectric sour...</td>\n",
       "      <td>EG.ELC.HYRO.ZS</td>\n",
       "      <td>1960</td>\n",
       "      <td>38.725947</td>\n",
       "    </tr>\n",
       "    <tr>\n",
       "      <th>1121</th>\n",
       "      <td>Euro area</td>\n",
       "      <td>EMU</td>\n",
       "      <td>Electricity production from natural gas source...</td>\n",
       "      <td>EG.ELC.NGAS.ZS</td>\n",
       "      <td>1960</td>\n",
       "      <td>2.194269</td>\n",
       "    </tr>\n",
       "    <tr>\n",
       "      <th>1122</th>\n",
       "      <td>Euro area</td>\n",
       "      <td>EMU</td>\n",
       "      <td>Electricity production from nuclear sources (%...</td>\n",
       "      <td>EG.ELC.NUCL.ZS</td>\n",
       "      <td>1960</td>\n",
       "      <td>0.041654</td>\n",
       "    </tr>\n",
       "    <tr>\n",
       "      <th>1123</th>\n",
       "      <td>Euro area</td>\n",
       "      <td>EMU</td>\n",
       "      <td>Electricity production from oil sources (% of ...</td>\n",
       "      <td>EG.ELC.PETR.ZS</td>\n",
       "      <td>1960</td>\n",
       "      <td>5.038459</td>\n",
       "    </tr>\n",
       "  </tbody>\n",
       "</table>\n",
       "</div>"
      ],
      "text/plain": [
       "     CountryName CountryCode  \\\n",
       "1119   Euro area         EMU   \n",
       "1120   Euro area         EMU   \n",
       "1121   Euro area         EMU   \n",
       "1122   Euro area         EMU   \n",
       "1123   Euro area         EMU   \n",
       "\n",
       "                                          IndicatorName   IndicatorCode  Year  \\\n",
       "1119  Electricity production from coal sources (% of...  EG.ELC.COAL.ZS  1960   \n",
       "1120  Electricity production from hydroelectric sour...  EG.ELC.HYRO.ZS  1960   \n",
       "1121  Electricity production from natural gas source...  EG.ELC.NGAS.ZS  1960   \n",
       "1122  Electricity production from nuclear sources (%...  EG.ELC.NUCL.ZS  1960   \n",
       "1123  Electricity production from oil sources (% of ...  EG.ELC.PETR.ZS  1960   \n",
       "\n",
       "          Value  \n",
       "1119  48.316708  \n",
       "1120  38.725947  \n",
       "1121   2.194269  \n",
       "1122   0.041654  \n",
       "1123   5.038459  "
      ]
     },
     "execution_count": 6,
     "metadata": {},
     "output_type": "execute_result"
    }
   ],
   "source": [
    "#Displaying Header from Production Data\n",
    "production_data.head()"
   ]
  },
  {
   "cell_type": "code",
   "execution_count": 7,
   "id": "a8f75008",
   "metadata": {},
   "outputs": [],
   "source": [
    "#Selection of a Couple of Countries for Statistical Analysis\n",
    "country_list = [\"CEB\", \"EAR\"]"
   ]
  },
  {
   "cell_type": "code",
   "execution_count": 8,
   "id": "38321702",
   "metadata": {},
   "outputs": [
    {
     "name": "stdout",
     "output_type": "stream",
     "text": [
      "4.093451319518465e+20\n",
      "902.9163055121775\n"
     ]
    }
   ],
   "source": [
    "# Printing the Population Variance for Electricity and Production Data\n",
    "import statistics as stat\n",
    "print(stat.pvariance(electricity_data['Value']))\n",
    "print(stat.pvariance(production_data['Value']))"
   ]
  },
  {
   "cell_type": "code",
   "execution_count": 11,
   "id": "f8870b27",
   "metadata": {},
   "outputs": [
    {
     "name": "stdout",
     "output_type": "stream",
     "text": [
      "data1: mean=1100257281.528 stdv=20232385974.203\n",
      "data2: mean=22.251 stdv=30.049\n"
     ]
    }
   ],
   "source": [
    "# summarizing the Data to Print Mean Value and Standard Deviation for Electricity and Production Data\n",
    "print('data1: mean=%.3f stdv=%.3f' % (stat.mean(electricity_data['Value']), stat.stdev(electricity_data['Value'])))\n",
    "print('data2: mean=%.3f stdv=%.3f' % (stat.mean(production_data['Value']), stat.stdev(production_data['Value'])))"
   ]
  },
  {
   "cell_type": "code",
   "execution_count": 12,
   "id": "9acc6ac9",
   "metadata": {},
   "outputs": [
    {
     "name": "stdout",
     "output_type": "stream",
     "text": [
      "Pearsons correlation: 0.055\n"
     ]
    }
   ],
   "source": [
    "# Printing the Correlation Factor based on Pearson Principle\n",
    "from scipy.stats import pearsonr\n",
    "corr, _ = pearsonr(electricity_data['Year'] , electricity_data['Value'])\n",
    "print('Pearsons correlation: %.3f' % corr)"
   ]
  },
  {
   "cell_type": "code",
   "execution_count": 13,
   "id": "b276c07c",
   "metadata": {},
   "outputs": [
    {
     "data": {
      "text/html": [
       "<div>\n",
       "<style scoped>\n",
       "    .dataframe tbody tr th:only-of-type {\n",
       "        vertical-align: middle;\n",
       "    }\n",
       "\n",
       "    .dataframe tbody tr th {\n",
       "        vertical-align: top;\n",
       "    }\n",
       "\n",
       "    .dataframe thead th {\n",
       "        text-align: right;\n",
       "    }\n",
       "</style>\n",
       "<table border=\"1\" class=\"dataframe\">\n",
       "  <thead>\n",
       "    <tr style=\"text-align: right;\">\n",
       "      <th></th>\n",
       "      <th>Value_x</th>\n",
       "      <th>Year</th>\n",
       "      <th>Value_y</th>\n",
       "    </tr>\n",
       "  </thead>\n",
       "  <tbody>\n",
       "    <tr>\n",
       "      <th>0</th>\n",
       "      <td>42.271822</td>\n",
       "      <td>1960</td>\n",
       "      <td>1.973763e+01</td>\n",
       "    </tr>\n",
       "    <tr>\n",
       "      <th>1</th>\n",
       "      <td>42.271822</td>\n",
       "      <td>1960</td>\n",
       "      <td>9.911190e+00</td>\n",
       "    </tr>\n",
       "    <tr>\n",
       "      <th>2</th>\n",
       "      <td>42.271822</td>\n",
       "      <td>1960</td>\n",
       "      <td>4.100000e+07</td>\n",
       "    </tr>\n",
       "    <tr>\n",
       "      <th>3</th>\n",
       "      <td>9.562188</td>\n",
       "      <td>1960</td>\n",
       "      <td>1.973763e+01</td>\n",
       "    </tr>\n",
       "    <tr>\n",
       "      <th>4</th>\n",
       "      <td>9.562188</td>\n",
       "      <td>1960</td>\n",
       "      <td>9.911190e+00</td>\n",
       "    </tr>\n",
       "  </tbody>\n",
       "</table>\n",
       "</div>"
      ],
      "text/plain": [
       "     Value_x  Year       Value_y\n",
       "0  42.271822  1960  1.973763e+01\n",
       "1  42.271822  1960  9.911190e+00\n",
       "2  42.271822  1960  4.100000e+07\n",
       "3   9.562188  1960  1.973763e+01\n",
       "4   9.562188  1960  9.911190e+00"
      ]
     },
     "execution_count": 13,
     "metadata": {},
     "output_type": "execute_result"
    }
   ],
   "source": [
    "#Creation of 2 Different dataframes for 2 countries CEB and EAR\n",
    "# Merging both the dataframes on Year as a single dataframe\n",
    "corr_country_df1 = electricity_data[electricity_data[\"CountryCode\"]=='CEB']\n",
    "corr_country_df2 = electricity_data[electricity_data[\"CountryCode\"]=='EAR']\n",
    "df3 = corr_country_df1[[\"Value\",\"Year\"]].merge(corr_country_df2[[\"Value\",\"Year\"]],on=[\"Year\"])\n",
    "df3.fillna(0)\n",
    "df3.head()"
   ]
  },
  {
   "cell_type": "code",
   "execution_count": 14,
   "id": "a8ba275a",
   "metadata": {},
   "outputs": [
    {
     "name": "stdout",
     "output_type": "stream",
     "text": [
      "country:CEB\n",
      "              Year         Value\n",
      "count   551.000000  5.510000e+02\n",
      "mean   1991.651543  4.861763e+08\n",
      "std      14.209286  3.913483e+09\n",
      "min    1960.000000  0.000000e+00\n",
      "25%    1980.000000  7.818061e+00\n",
      "50%    1992.000000  1.365342e+01\n",
      "75%    2004.000000  6.517196e+01\n",
      "max    2015.000000  5.169100e+10\n",
      "country:EAR\n",
      "              Year         Value\n",
      "count   551.000000  5.510000e+02\n",
      "mean   1991.651543  2.566951e+09\n",
      "std      14.209286  1.366771e+10\n",
      "min    1960.000000  2.049639e-01\n",
      "25%    1980.000000  1.283298e+01\n",
      "50%    1992.000000  2.523738e+01\n",
      "75%    2004.000000  6.405601e+01\n",
      "max    2015.000000  1.561850e+11\n",
      "World:\n",
      "               Year         Value\n",
      "count  94971.000000  9.497100e+04\n",
      "mean    1993.099641  1.100257e+09\n",
      "std       13.854440  2.023239e+10\n",
      "min     1960.000000  0.000000e+00\n",
      "25%     1982.000000  4.562189e-01\n",
      "50%     1994.000000  1.538462e+01\n",
      "75%     2005.000000  5.748988e+01\n",
      "max     2015.000000  1.644540e+12\n"
     ]
    }
   ],
   "source": [
    "# Printing of all statistical variable for Both the Countries and the Entire World Together for comparison\n",
    "for country in country_list:\n",
    "    print(\"country:\"+country)\n",
    "    print(electricity_data[electricity_data[\"CountryCode\"]==country].describe())\n",
    "print(\"World:\")\n",
    "print(electricity_data.describe()) "
   ]
  },
  {
   "cell_type": "code",
   "execution_count": 15,
   "id": "0a39b22b",
   "metadata": {},
   "outputs": [
    {
     "data": {
      "text/html": [
       "<div>\n",
       "<style scoped>\n",
       "    .dataframe tbody tr th:only-of-type {\n",
       "        vertical-align: middle;\n",
       "    }\n",
       "\n",
       "    .dataframe tbody tr th {\n",
       "        vertical-align: top;\n",
       "    }\n",
       "\n",
       "    .dataframe thead th {\n",
       "        text-align: right;\n",
       "    }\n",
       "</style>\n",
       "<table border=\"1\" class=\"dataframe\">\n",
       "  <thead>\n",
       "    <tr style=\"text-align: right;\">\n",
       "      <th></th>\n",
       "      <th>Value_x</th>\n",
       "      <th>Year</th>\n",
       "      <th>Value_y</th>\n",
       "    </tr>\n",
       "  </thead>\n",
       "  <tbody>\n",
       "    <tr>\n",
       "      <th>Value_x</th>\n",
       "      <td>1.000000</td>\n",
       "      <td>0.171859</td>\n",
       "      <td>0.060969</td>\n",
       "    </tr>\n",
       "    <tr>\n",
       "      <th>Year</th>\n",
       "      <td>0.171859</td>\n",
       "      <td>1.000000</td>\n",
       "      <td>0.187532</td>\n",
       "    </tr>\n",
       "    <tr>\n",
       "      <th>Value_y</th>\n",
       "      <td>0.060969</td>\n",
       "      <td>0.187532</td>\n",
       "      <td>1.000000</td>\n",
       "    </tr>\n",
       "  </tbody>\n",
       "</table>\n",
       "</div>"
      ],
      "text/plain": [
       "          Value_x      Year   Value_y\n",
       "Value_x  1.000000  0.171859  0.060969\n",
       "Year     0.171859  1.000000  0.187532\n",
       "Value_y  0.060969  0.187532  1.000000"
      ]
     },
     "execution_count": 15,
     "metadata": {},
     "output_type": "execute_result"
    }
   ],
   "source": [
    "#Printing of Correlation on Merged Dataframe\n",
    "df3.corr()"
   ]
  },
  {
   "cell_type": "markdown",
   "id": "afead074",
   "metadata": {},
   "source": [
    "Note: Value_x and Value_y represent the correlation between countries (EAR and CEB). There is 6% change across years"
   ]
  },
  {
   "cell_type": "code",
   "execution_count": 16,
   "id": "85ac8e82",
   "metadata": {},
   "outputs": [
    {
     "data": {
      "text/plain": [
       "<AxesSubplot:ylabel='Value'>"
      ]
     },
     "execution_count": 16,
     "metadata": {},
     "output_type": "execute_result"
    },
    {
     "data": {
      "image/png": "[encoded data removed]",
      "text/plain": [
       "<Figure size 1080x720 with 1 Axes>"
      ]
     },
     "metadata": {},
     "output_type": "display_data"
    }
   ],
   "source": [
    "# Analysis of Production Data by grouping the data on Indicator then printing the Pie Chart\n",
    "production_data.groupby(['IndicatorName']).mean().plot(kind='pie', y='Value', figsize=(15, 10), autopct='%1.1f%%')"
   ]
  },
  {
   "cell_type": "code",
   "execution_count": 17,
   "id": "0007fa9f",
   "metadata": {},
   "outputs": [
    {
     "data": {
      "text/plain": [
       "IndicatorName\n",
       "Electricity production from coal sources (% of total)                                  19.605714\n",
       "Electricity production from hydroelectric sources (% of total)                         30.822572\n",
       "Electricity production from natural gas sources (% of total)                           17.731533\n",
       "Electricity production from nuclear sources (% of total)                                4.694025\n",
       "Electricity production from oil sources (% of total)                                   21.690932\n",
       "Electricity production from oil, gas and coal sources (% of total)                     59.028179\n",
       "Electricity production from renewable sources, excluding hydroelectric (% of total)     1.908962\n",
       "Name: Value, dtype: float64"
      ]
     },
     "execution_count": 17,
     "metadata": {},
     "output_type": "execute_result"
    }
   ],
   "source": [
    "# Printing of Indicator-wise energy production\n",
    "production_data.groupby(['IndicatorName']).mean()[\"Value\"]"
   ]
  },
  {
   "cell_type": "code",
   "execution_count": 18,
   "id": "9ea103d2",
   "metadata": {},
   "outputs": [
    {
     "data": {
      "text/html": [
       "<div>\n",
       "<style scoped>\n",
       "    .dataframe tbody tr th:only-of-type {\n",
       "        vertical-align: middle;\n",
       "    }\n",
       "\n",
       "    .dataframe tbody tr th {\n",
       "        vertical-align: top;\n",
       "    }\n",
       "\n",
       "    .dataframe thead th {\n",
       "        text-align: right;\n",
       "    }\n",
       "</style>\n",
       "<table border=\"1\" class=\"dataframe\">\n",
       "  <thead>\n",
       "    <tr style=\"text-align: right;\">\n",
       "      <th></th>\n",
       "      <th>CountryName</th>\n",
       "      <th>CountryCode</th>\n",
       "      <th>IndicatorName</th>\n",
       "      <th>IndicatorCode</th>\n",
       "      <th>Year</th>\n",
       "      <th>Value</th>\n",
       "    </tr>\n",
       "  </thead>\n",
       "  <tbody>\n",
       "    <tr>\n",
       "      <th>282</th>\n",
       "      <td>Central Europe and the Baltics</td>\n",
       "      <td>CEB</td>\n",
       "      <td>CO2 emissions from electricity and heat produc...</td>\n",
       "      <td>EN.CO2.ETOT.ZS</td>\n",
       "      <td>1960</td>\n",
       "      <td>42.271822</td>\n",
       "    </tr>\n",
       "    <tr>\n",
       "      <th>413</th>\n",
       "      <td>Early-demographic dividend</td>\n",
       "      <td>EAR</td>\n",
       "      <td>CO2 emissions from electricity and heat produc...</td>\n",
       "      <td>EN.CO2.ETOT.ZS</td>\n",
       "      <td>1960</td>\n",
       "      <td>19.737627</td>\n",
       "    </tr>\n",
       "    <tr>\n",
       "      <th>603</th>\n",
       "      <td>East Asia &amp; Pacific</td>\n",
       "      <td>EAS</td>\n",
       "      <td>CO2 emissions from electricity and heat produc...</td>\n",
       "      <td>EN.CO2.ETOT.ZS</td>\n",
       "      <td>1960</td>\n",
       "      <td>32.307388</td>\n",
       "    </tr>\n",
       "    <tr>\n",
       "      <th>1106</th>\n",
       "      <td>Euro area</td>\n",
       "      <td>EMU</td>\n",
       "      <td>CO2 emissions from electricity and heat produc...</td>\n",
       "      <td>EN.CO2.ETOT.ZS</td>\n",
       "      <td>1960</td>\n",
       "      <td>28.492476</td>\n",
       "    </tr>\n",
       "    <tr>\n",
       "      <th>1262</th>\n",
       "      <td>Europe &amp; Central Asia</td>\n",
       "      <td>ECS</td>\n",
       "      <td>CO2 emissions from electricity and heat produc...</td>\n",
       "      <td>EN.CO2.ETOT.ZS</td>\n",
       "      <td>1960</td>\n",
       "      <td>30.566507</td>\n",
       "    </tr>\n",
       "  </tbody>\n",
       "</table>\n",
       "</div>"
      ],
      "text/plain": [
       "                         CountryName CountryCode  \\\n",
       "282   Central Europe and the Baltics         CEB   \n",
       "413       Early-demographic dividend         EAR   \n",
       "603              East Asia & Pacific         EAS   \n",
       "1106                       Euro area         EMU   \n",
       "1262           Europe & Central Asia         ECS   \n",
       "\n",
       "                                          IndicatorName   IndicatorCode  Year  \\\n",
       "282   CO2 emissions from electricity and heat produc...  EN.CO2.ETOT.ZS  1960   \n",
       "413   CO2 emissions from electricity and heat produc...  EN.CO2.ETOT.ZS  1960   \n",
       "603   CO2 emissions from electricity and heat produc...  EN.CO2.ETOT.ZS  1960   \n",
       "1106  CO2 emissions from electricity and heat produc...  EN.CO2.ETOT.ZS  1960   \n",
       "1262  CO2 emissions from electricity and heat produc...  EN.CO2.ETOT.ZS  1960   \n",
       "\n",
       "          Value  \n",
       "282   42.271822  \n",
       "413   19.737627  \n",
       "603   32.307388  \n",
       "1106  28.492476  \n",
       "1262  30.566507  "
      ]
     },
     "execution_count": 18,
     "metadata": {},
     "output_type": "execute_result"
    }
   ],
   "source": [
    "# Filtering the data for CO2 emissions from electricty and heat production and displaying the header data\n",
    "co2_emission = electricity_data[electricity_data[\"IndicatorName\"] == \"CO2 emissions from electricity and heat production, total (% of total fuel combustion)\"]\n",
    "co2_emission.head()"
   ]
  },
  {
   "cell_type": "code",
   "execution_count": 19,
   "id": "0f0a3926",
   "metadata": {},
   "outputs": [
    {
     "data": {
      "text/plain": [
       "<AxesSubplot:xlabel='Year'>"
      ]
     },
     "execution_count": 19,
     "metadata": {},
     "output_type": "execute_result"
    },
    {
     "data": {
      "image/png": "[encoded data removed]",
      "text/plain": [
       "<Figure size 432x288 with 1 Axes>"
      ]
     },
     "metadata": {
      "needs_background": "light"
     },
     "output_type": "display_data"
    }
   ],
   "source": [
    "#Plotting the data in the range of year 2000 to 2010\n",
    "co2_emission[co2_emission[\"Year\"].isin(range(2000, 2010))].groupby(\"Year\").mean().plot(y=\"Value\")"
   ]
  },
  {
   "cell_type": "code",
   "execution_count": null,
   "id": "a571be3c",
   "metadata": {},
   "outputs": [],
   "source": []
  }
 ],
 "metadata": {
  "kernelspec": {
   "display_name": "Python 3",
   "language": "python",
   "name": "python3"
  },
  "language_info": {
   "codemirror_mode": {
    "name": "ipython",
    "version": 3
   },
   "file_extension": ".py",
   "mimetype": "text/x-python",
   "name": "python",
   "nbconvert_exporter": "python",
   "pygments_lexer": "ipython3",
   "version": "3.8.8"
  }
 },
 "nbformat": 4,
 "nbformat_minor": 5
}
